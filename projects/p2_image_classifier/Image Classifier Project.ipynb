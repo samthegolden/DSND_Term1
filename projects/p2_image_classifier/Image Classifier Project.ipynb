{
 "cells": [
  {
   "cell_type": "markdown",
   "metadata": {},
   "source": [
    "# Developing an AI application\n",
    "\n",
    "Going forward, AI algorithms will be incorporated into more and more everyday applications. For example, you might want to include an image classifier in a smart phone app. To do this, you'd use a deep learning model trained on hundreds of thousands of images as part of the overall application architecture. A large part of software development in the future will be using these types of models as common parts of applications. \n",
    "\n",
    "In this project, you'll train an image classifier to recognize different species of flowers. You can imagine using something like this in a phone app that tells you the name of the flower your camera is looking at. In practice you'd train this classifier, then export it for use in your application. We'll be using [this dataset](http://www.robots.ox.ac.uk/~vgg/data/flowers/102/index.html) of 102 flower categories, you can see a few examples below. \n",
    "\n",
    "<img src='assets/Flowers.png' width=500px>\n",
    "\n",
    "The project is broken down into multiple steps:\n",
    "\n",
    "* Load and preprocess the image dataset\n",
    "* Train the image classifier on your dataset\n",
    "* Use the trained classifier to predict image content\n",
    "\n",
    "We'll lead you through each part which you'll implement in Python.\n",
    "\n",
    "When you've completed this project, you'll have an application that can be trained on any set of labeled images. Here your network will be learning about flowers and end up as a command line application. But, what you do with your new skills depends on your imagination and effort in building a dataset. For example, imagine an app where you take a picture of a car, it tells you what the make and model is, then looks up information about it. Go build your own dataset and make something new.\n",
    "\n",
    "First up is importing the packages you'll need. It's good practice to keep all the imports at the beginning of your code. As you work through this notebook and find you need to import a package, make sure to add the import up here."
   ]
  },
  {
   "cell_type": "code",
   "execution_count": 1,
   "metadata": {},
   "outputs": [],
   "source": [
    "# Imports here\n",
    "import sys\n",
    "import os\n",
    "sys.path.append(\"/Users/silvas/training/udacity/ml_intro_pytorch/github/DSND_Term1/projects/p2_image_classifier\")\n",
    "#print (sys.path)\n",
    "\n",
    "%matplotlib inline\n",
    "%config InlineBackend.figure_format = 'retina'\n",
    "\n",
    "import numpy as np\n",
    "import torch\n",
    "\n",
    "import helper\n",
    "\n",
    "import matplotlib.pyplot as plt\n",
    "\n",
    "###\n",
    "\n",
    "from torch import nn\n",
    "import torch.nn.functional as F\n",
    "from torch import optim\n",
    "from torchvision import datasets, transforms, models\n",
    "\n",
    "import helper"
   ]
  },
  {
   "cell_type": "markdown",
   "metadata": {},
   "source": [
    "## Load the data\n",
    "\n",
    "Here you'll use `torchvision` to load the data ([documentation](http://pytorch.org/docs/0.3.0/torchvision/index.html)). The data should be included alongside this notebook, otherwise you can [download it here](https://s3.amazonaws.com/content.udacity-data.com/nd089/flower_data.tar.gz). The dataset is split into three parts, training, validation, and testing. For the training, you'll want to apply transformations such as random scaling, cropping, and flipping. This will help the network generalize leading to better performance. You'll also need to make sure the input data is resized to 224x224 pixels as required by the pre-trained networks.\n",
    "\n",
    "The validation and testing sets are used to measure the model's performance on data it hasn't seen yet. For this you don't want any scaling or rotation transformations, but you'll need to resize then crop the images to the appropriate size.\n",
    "\n",
    "The pre-trained networks you'll use were trained on the ImageNet dataset where each color channel was normalized separately. For all three sets you'll need to normalize the means and standard deviations of the images to what the network expects. For the means, it's `[0.485, 0.456, 0.406]` and for the standard deviations `[0.229, 0.224, 0.225]`, calculated from the ImageNet images.  These values will shift each color channel to be centered at 0 and range from -1 to 1.\n",
    " "
   ]
  },
  {
   "cell_type": "code",
   "execution_count": 2,
   "metadata": {},
   "outputs": [],
   "source": [
    "data_dir = 'flowers'\n",
    "train_dir = data_dir + '/train'\n",
    "valid_dir = data_dir + '/valid'\n",
    "test_dir = data_dir + '/test'"
   ]
  },
  {
   "cell_type": "code",
   "execution_count": 3,
   "metadata": {},
   "outputs": [],
   "source": [
    "# TODO: Define your transforms for the training, validation, and testing sets\n",
    "train_transforms = transforms.Compose([transforms.Resize(224),\n",
    "                                      transforms.CenterCrop(224),\n",
    "                                      transforms.ToTensor(),\n",
    "                                      transforms.Normalize([0.485, 0.456, 0.406], [0.229, 0.224, 0.225])])\n",
    "\n",
    "#When you're testing however, you'll want to use images that aren't altered other than normalizing. So, for validation/test images, you'll typically just resize and crop.\n",
    "test_transforms = transforms.Compose([transforms.Resize(224),\n",
    "                                      transforms.CenterCrop(224),\n",
    "                                      transforms.ToTensor(),\n",
    "                                      transforms.Normalize([0.485, 0.456, 0.406], [0.229, 0.224, 0.225])])\n",
    "\n",
    "valid_transforms = transforms.Compose([transforms.Resize(224),\n",
    "                                      transforms.CenterCrop(224),\n",
    "                                      transforms.ToTensor(),\n",
    "                                      transforms.Normalize([0.485, 0.456, 0.406], [0.229, 0.224, 0.225])])\n",
    "\n",
    "# TODO: Load the datasets with ImageFolder\n",
    "train_datasets = datasets.ImageFolder(train_dir, transform=train_transforms)\n",
    "test_datasets = datasets.ImageFolder(test_dir, transform=test_transforms)\n",
    "valid_datasets = datasets.ImageFolder(valid_dir, transform=valid_transforms)\n",
    "\n",
    "# TODO: Using the image datasets and the trainforms, define the dataloaders\n",
    "trainloader = torch.utils.data.DataLoader(train_datasets, batch_size=32, shuffle=True)\n",
    "testloader = torch.utils.data.DataLoader(test_datasets, batch_size=32, shuffle=True)\n",
    "validloader = torch.utils.data.DataLoader(valid_datasets, batch_size=32, shuffle=True)"
   ]
  },
  {
   "cell_type": "markdown",
   "metadata": {},
   "source": [
    "### Label mapping\n",
    "\n",
    "You'll also need to load in a mapping from category label to category name. You can find this in the file `cat_to_name.json`. It's a JSON object which you can read in with the [`json` module](https://docs.python.org/2/library/json.html). This will give you a dictionary mapping the integer encoded categories to the actual names of the flowers."
   ]
  },
  {
   "cell_type": "code",
   "execution_count": 4,
   "metadata": {},
   "outputs": [],
   "source": [
    "import json\n",
    "\n",
    "with open('cat_to_name.json', 'r') as f:\n",
    "    cat_to_name = json.load(f)"
   ]
  },
  {
   "cell_type": "markdown",
   "metadata": {},
   "source": [
    "# Building and training the classifier\n",
    "\n",
    "Now that the data is ready, it's time to build and train the classifier. As usual, you should use one of the pretrained models from `torchvision.models` to get the image features. Build and train a new feed-forward classifier using those features.\n",
    "\n",
    "We're going to leave this part up to you. Refer to [the rubric](https://review.udacity.com/#!/rubrics/1663/view) for guidance on successfully completing this section. Things you'll need to do:\n",
    "\n",
    "* Load a [pre-trained network](http://pytorch.org/docs/master/torchvision/models.html) (If you need a starting point, the VGG networks work great and are straightforward to use)\n",
    "* Define a new, untrained feed-forward network as a classifier, using ReLU activations and dropout\n",
    "* Train the classifier layers using backpropagation using the pre-trained network to get the features\n",
    "* Track the loss and accuracy on the validation set to determine the best hyperparameters\n",
    "\n",
    "We've left a cell open for you below, but use as many as you need. Our advice is to break the problem up into smaller parts you can run separately. Check that each part is doing what you expect, then move on to the next. You'll likely find that as you work through each part, you'll need to go back and modify your previous code. This is totally normal!\n",
    "\n",
    "When training make sure you're updating only the weights of the feed-forward network. You should be able to get the validation accuracy above 70% if you build everything right. Make sure to try different hyperparameters (learning rate, units in the classifier, epochs, etc) to find the best model. Save those hyperparameters to use as default values in the next part of the project.\n",
    "\n",
    "One last important tip if you're using the workspace to run your code: To avoid having your workspace disconnect during the long-running tasks in this notebook, please read in the earlier page in this lesson called Intro to\n",
    "GPU Workspaces about Keeping Your Session Active. You'll want to include code from the workspace_utils.py module.\n",
    "\n",
    "**Note for Workspace users:** If your network is over 1 GB when saved as a checkpoint, there might be issues with saving backups in your workspace. Typically this happens with wide dense layers after the convolutional layers. If your saved checkpoint is larger than 1 GB (you can open a terminal and check with `ls -lh`), you should reduce the size of your hidden layers and train again."
   ]
  },
  {
   "cell_type": "code",
   "execution_count": 5,
   "metadata": {},
   "outputs": [
    {
     "name": "stderr",
     "output_type": "stream",
     "text": [
      "Downloading: \"https://download.pytorch.org/models/vgg16-397923af.pth\" to /root/.torch/models/vgg16-397923af.pth\n",
      "100%|██████████| 553433881/553433881 [00:44<00:00, 12533528.17it/s]\n"
     ]
    }
   ],
   "source": [
    "# LOAD PRETRAINED MODEL\n",
    "model = models.vgg16(pretrained=True)\n",
    "\n",
    "device = torch.device(\"cuda\" if torch.cuda.is_available() else \"cpu\")\n",
    "\n",
    "# Freeze parameters so we don't backprop through them\n",
    "for param in model.parameters():\n",
    "    param.requires_grad = False\n"
   ]
  },
  {
   "cell_type": "code",
   "execution_count": 6,
   "metadata": {},
   "outputs": [
    {
     "name": "stdout",
     "output_type": "stream",
     "text": [
      "Sequential(\n",
      "  (fc1): Linear(in_features=25088, out_features=10000, bias=True)\n",
      "  (relu): ReLU()\n",
      "  (drop): Dropout(p=0.2)\n",
      "  (fc2): Linear(in_features=10000, out_features=2000, bias=True)\n",
      "  (fc3): Linear(in_features=2000, out_features=500, bias=True)\n",
      "  (fc4): Linear(in_features=500, out_features=102, bias=True)\n",
      "  (output): LogSoftmax()\n",
      ")\n",
      "torch.Size([32, 3, 224, 224])\n",
      "torch.Size([32])\n"
     ]
    },
    {
     "data": {
      "text/plain": [
       "\"    \\nimage, label = next(iter(trainloader))\\nhelper.imshow(image[0,:]);\\nhelper.view_classify(img.resize_(1, 28, 28), ps, version='Fashion')\\n\""
      ]
     },
     "execution_count": 6,
     "metadata": {},
     "output_type": "execute_result"
    }
   ],
   "source": [
    "## BUILD CLASSIFIER\n",
    "\n",
    "from collections import OrderedDict\n",
    "classifier = nn.Sequential(OrderedDict(\n",
    "            [\n",
    "                ('fc1', nn.Linear(25088, 10000)),\n",
    "                ('relu', nn.ReLU()),\n",
    "                ('drop', nn.Dropout(0.2)),\n",
    "                ('fc2', nn.Linear(10000, 2000)),\n",
    "                ('relu', nn.ReLU()),\n",
    "                ('drop', nn.Dropout(0.2)),\n",
    "                ('fc3', nn.Linear(2000, 500)),\n",
    "                ('relu', nn.ReLU()),\n",
    "                ('drop', nn.Dropout(0.2)),\n",
    "                ('fc4', nn.Linear(500, 102)),\n",
    "                ('output', nn.LogSoftmax(dim=1))\n",
    "            ]))\n",
    "         \n",
    "model.classifier = classifier\n",
    "#print(model.classifier.in_features)\n",
    "#print(model.fc.in_features)\n",
    "print(model.classifier)\n",
    "\n",
    "features = list(model.classifier.children())[:-1]\n",
    "#num_filters = model.classifier[len(features)].in_features\n",
    "\n",
    "\n",
    "criterion = nn.NLLLoss()\n",
    "# Optimize only classifier parameters, not model features parameters\n",
    "optimizer = optim.Adam(model.classifier.parameters(), lr=0.0001) # 0.002 (yes, 20x bigger) was causing accuracy fluctuation on validation set\n",
    "'''\n",
    "# Only train the classifier parameters, feature parameters are frozen\n",
    "params_to_update = []\n",
    "for name, param in model.named_parameters():\n",
    "    if param.requires_grad == True:\n",
    "        params_to_update.append(param)\n",
    "optimizer = optim.Adam(params_to_update, lr = 0.001)\n",
    "'''\n",
    "\n",
    "model.to(device)\n",
    "         \n",
    "for images, labels in trainloader:\n",
    "    print(images.shape) # torch.Size([32, 3, 224, 224]) So, 32 images per batch, 3 color channel, and 224x224 images.\n",
    "    print(labels.shape) # torch.Size([32])\n",
    "    break\n",
    "    \n",
    "'''    \n",
    "image, label = next(iter(trainloader))\n",
    "helper.imshow(image[0,:]);\n",
    "helper.view_classify(img.resize_(1, 28, 28), ps, version='Fashion')\n",
    "'''"
   ]
  },
  {
   "cell_type": "code",
   "execution_count": 8,
   "metadata": {},
   "outputs": [
    {
     "name": "stdout",
     "output_type": "stream",
     "text": [
      "Epoch 1/5.. Train loss: 3.673.. Test loss: 3.204.. Test accuracy: 0.374\n",
      "Epoch 1/5.. Train loss: 2.825.. Test loss: 2.479.. Test accuracy: 0.429\n",
      "Epoch 1/5.. Train loss: 2.104.. Test loss: 1.838.. Test accuracy: 0.583\n",
      "Epoch 1/5.. Train loss: 1.828.. Test loss: 1.806.. Test accuracy: 0.577\n",
      "Epoch 1/5.. Train loss: 1.661.. Test loss: 1.432.. Test accuracy: 0.640\n",
      "Epoch 1/5.. Train loss: 1.412.. Test loss: 1.348.. Test accuracy: 0.664\n",
      "Epoch 1/5.. Train loss: 1.186.. Test loss: 1.182.. Test accuracy: 0.707\n",
      "Epoch 1/5.. Train loss: 1.042.. Test loss: 1.082.. Test accuracy: 0.716\n",
      "Epoch 1/5.. Train loss: 1.006.. Test loss: 0.958.. Test accuracy: 0.731\n",
      "Epoch 1/5.. Train loss: 0.900.. Test loss: 0.787.. Test accuracy: 0.804\n",
      "Epoch 1/5.. Train loss: 0.798.. Test loss: 0.754.. Test accuracy: 0.802\n",
      "Epoch 1/5.. Train loss: 0.837.. Test loss: 0.725.. Test accuracy: 0.816\n",
      "Epoch 1/5.. Train loss: 0.756.. Test loss: 0.713.. Test accuracy: 0.802\n",
      "Epoch 1/5.. Train loss: 0.654.. Test loss: 0.793.. Test accuracy: 0.778\n",
      "Epoch 1/5.. Train loss: 0.720.. Test loss: 0.732.. Test accuracy: 0.801\n",
      "Epoch 1/5.. Train loss: 0.639.. Test loss: 0.674.. Test accuracy: 0.820\n",
      "Epoch 1/5.. Train loss: 0.703.. Test loss: 0.619.. Test accuracy: 0.822\n",
      "Epoch 1/5.. Train loss: 0.729.. Test loss: 0.591.. Test accuracy: 0.842\n",
      "Epoch 1/5.. Train loss: 0.602.. Test loss: 0.696.. Test accuracy: 0.812\n",
      "Epoch 1/5.. Train loss: 0.649.. Test loss: 0.572.. Test accuracy: 0.841\n",
      "Epoch 2/5.. Train loss: 0.056.. Test loss: 0.794.. Test accuracy: 0.766\n",
      "Epoch 2/5.. Train loss: 0.197.. Test loss: 0.571.. Test accuracy: 0.840\n",
      "Epoch 2/5.. Train loss: 0.143.. Test loss: 0.524.. Test accuracy: 0.863\n",
      "Epoch 2/5.. Train loss: 0.127.. Test loss: 0.547.. Test accuracy: 0.863\n",
      "Epoch 2/5.. Train loss: 0.087.. Test loss: 0.522.. Test accuracy: 0.849\n",
      "Epoch 2/5.. Train loss: 0.090.. Test loss: 0.492.. Test accuracy: 0.870\n",
      "Epoch 2/5.. Train loss: 0.096.. Test loss: 0.489.. Test accuracy: 0.867\n",
      "Epoch 2/5.. Train loss: 0.108.. Test loss: 0.486.. Test accuracy: 0.858\n",
      "Epoch 2/5.. Train loss: 0.095.. Test loss: 0.457.. Test accuracy: 0.866\n",
      "Epoch 2/5.. Train loss: 0.058.. Test loss: 0.487.. Test accuracy: 0.872\n",
      "Epoch 2/5.. Train loss: 0.071.. Test loss: 0.448.. Test accuracy: 0.890\n",
      "Epoch 2/5.. Train loss: 0.076.. Test loss: 0.469.. Test accuracy: 0.866\n",
      "Epoch 2/5.. Train loss: 0.077.. Test loss: 0.417.. Test accuracy: 0.888\n",
      "Epoch 2/5.. Train loss: 0.067.. Test loss: 0.394.. Test accuracy: 0.894\n",
      "Epoch 2/5.. Train loss: 0.057.. Test loss: 0.439.. Test accuracy: 0.878\n",
      "Epoch 2/5.. Train loss: 0.046.. Test loss: 0.524.. Test accuracy: 0.844\n",
      "Epoch 2/5.. Train loss: 0.041.. Test loss: 0.463.. Test accuracy: 0.873\n",
      "Epoch 2/5.. Train loss: 0.070.. Test loss: 0.444.. Test accuracy: 0.882\n",
      "Epoch 2/5.. Train loss: 0.048.. Test loss: 0.442.. Test accuracy: 0.878\n",
      "Epoch 2/5.. Train loss: 0.082.. Test loss: 0.468.. Test accuracy: 0.865\n",
      "Epoch 2/5.. Train loss: 0.044.. Test loss: 0.468.. Test accuracy: 0.861\n",
      "Epoch 3/5.. Train loss: 0.043.. Test loss: 0.459.. Test accuracy: 0.875\n",
      "Epoch 3/5.. Train loss: 0.009.. Test loss: 0.566.. Test accuracy: 0.860\n",
      "Epoch 3/5.. Train loss: 0.211.. Test loss: 0.437.. Test accuracy: 0.879\n",
      "Epoch 3/5.. Train loss: 0.026.. Test loss: 0.425.. Test accuracy: 0.877\n",
      "Epoch 3/5.. Train loss: 0.051.. Test loss: 0.365.. Test accuracy: 0.903\n",
      "Epoch 3/5.. Train loss: 0.018.. Test loss: 0.393.. Test accuracy: 0.893\n",
      "Epoch 3/5.. Train loss: 0.016.. Test loss: 0.407.. Test accuracy: 0.890\n",
      "Epoch 3/5.. Train loss: 0.029.. Test loss: 0.388.. Test accuracy: 0.892\n",
      "Epoch 3/5.. Train loss: 0.010.. Test loss: 0.384.. Test accuracy: 0.895\n",
      "Epoch 3/5.. Train loss: 0.018.. Test loss: 0.389.. Test accuracy: 0.900\n",
      "Epoch 3/5.. Train loss: 0.011.. Test loss: 0.373.. Test accuracy: 0.901\n",
      "Epoch 3/5.. Train loss: 0.013.. Test loss: 0.369.. Test accuracy: 0.909\n",
      "Epoch 3/5.. Train loss: 0.008.. Test loss: 0.350.. Test accuracy: 0.911\n",
      "Epoch 3/5.. Train loss: 0.014.. Test loss: 0.337.. Test accuracy: 0.914\n",
      "Epoch 3/5.. Train loss: 0.017.. Test loss: 0.348.. Test accuracy: 0.916\n",
      "Epoch 3/5.. Train loss: 0.030.. Test loss: 0.341.. Test accuracy: 0.913\n",
      "Epoch 3/5.. Train loss: 0.041.. Test loss: 0.455.. Test accuracy: 0.891\n",
      "Epoch 3/5.. Train loss: 0.012.. Test loss: 0.371.. Test accuracy: 0.901\n",
      "Epoch 3/5.. Train loss: 0.018.. Test loss: 0.361.. Test accuracy: 0.904\n",
      "Epoch 3/5.. Train loss: 0.007.. Test loss: 0.412.. Test accuracy: 0.887\n",
      "Epoch 4/5.. Train loss: 0.003.. Test loss: 0.343.. Test accuracy: 0.911\n",
      "Epoch 4/5.. Train loss: 0.003.. Test loss: 0.337.. Test accuracy: 0.911\n",
      "Epoch 4/5.. Train loss: 0.003.. Test loss: 0.328.. Test accuracy: 0.918\n",
      "Epoch 4/5.. Train loss: 0.003.. Test loss: 0.320.. Test accuracy: 0.917\n",
      "Epoch 4/5.. Train loss: 0.002.. Test loss: 0.326.. Test accuracy: 0.915\n",
      "Epoch 4/5.. Train loss: 0.014.. Test loss: 0.373.. Test accuracy: 0.904\n",
      "Epoch 4/5.. Train loss: 0.014.. Test loss: 0.382.. Test accuracy: 0.893\n",
      "Epoch 4/5.. Train loss: 0.009.. Test loss: 0.360.. Test accuracy: 0.900\n",
      "Epoch 4/5.. Train loss: 0.008.. Test loss: 0.348.. Test accuracy: 0.902\n",
      "Epoch 4/5.. Train loss: 0.006.. Test loss: 0.348.. Test accuracy: 0.904\n",
      "Epoch 4/5.. Train loss: 0.002.. Test loss: 0.349.. Test accuracy: 0.910\n",
      "Epoch 4/5.. Train loss: 0.005.. Test loss: 0.336.. Test accuracy: 0.912\n",
      "Epoch 4/5.. Train loss: 0.003.. Test loss: 0.327.. Test accuracy: 0.913\n",
      "Epoch 4/5.. Train loss: 0.002.. Test loss: 0.316.. Test accuracy: 0.923\n",
      "Epoch 4/5.. Train loss: 0.010.. Test loss: 0.378.. Test accuracy: 0.897\n"
     ]
    },
    {
     "ename": "KeyboardInterrupt",
     "evalue": "",
     "output_type": "error",
     "traceback": [
      "\u001b[0;31m---------------------------------------------------------------------------\u001b[0m",
      "\u001b[0;31mKeyboardInterrupt\u001b[0m                         Traceback (most recent call last)",
      "\u001b[0;32m<ipython-input-8-e068980f48f1>\u001b[0m in \u001b[0;36m<module>\u001b[0;34m()\u001b[0m\n\u001b[1;32m     34\u001b[0m                     \u001b[0mbatch_loss\u001b[0m \u001b[0;34m=\u001b[0m \u001b[0mcriterion\u001b[0m\u001b[0;34m(\u001b[0m\u001b[0mlogps\u001b[0m\u001b[0;34m,\u001b[0m \u001b[0mlabels\u001b[0m\u001b[0;34m)\u001b[0m\u001b[0;34m\u001b[0m\u001b[0m\n\u001b[1;32m     35\u001b[0m \u001b[0;34m\u001b[0m\u001b[0m\n\u001b[0;32m---> 36\u001b[0;31m                     \u001b[0mtest_loss\u001b[0m \u001b[0;34m+=\u001b[0m \u001b[0mbatch_loss\u001b[0m\u001b[0;34m.\u001b[0m\u001b[0mitem\u001b[0m\u001b[0;34m(\u001b[0m\u001b[0;34m)\u001b[0m\u001b[0;34m\u001b[0m\u001b[0m\n\u001b[0m\u001b[1;32m     37\u001b[0m \u001b[0;34m\u001b[0m\u001b[0m\n\u001b[1;32m     38\u001b[0m                     \u001b[0;31m# Calculate accuracy\u001b[0m\u001b[0;34m\u001b[0m\u001b[0;34m\u001b[0m\u001b[0m\n",
      "\u001b[0;31mKeyboardInterrupt\u001b[0m: "
     ]
    }
   ],
   "source": [
    "# TRAIN\n",
    "\n",
    "epochs = 5\n",
    "steps = 0\n",
    "running_loss = 0\n",
    "print_every = 10\n",
    "\n",
    "for e in range(epochs):\n",
    "    running_loss = 0\n",
    "    for images, labels in trainloader:\n",
    "        # images = images.view(images.shape[0], -1) # no need of reshaping...why?\n",
    "        steps += 1\n",
    "        images, labels = images.to(device), labels.to(device)\n",
    "        \n",
    "        optimizer.zero_grad()\n",
    "        \n",
    "        # outputs = model.forward(inputs)\n",
    "        log_ps = model(images)\n",
    "        loss = criterion(log_ps, labels)\n",
    "        loss.backward()\n",
    "        optimizer.step()\n",
    "        \n",
    "        running_loss += loss.item()\n",
    "        \n",
    "        # Validation loop -but then why use testloader and not validloader??\n",
    "        if steps % print_every == 0:\n",
    "            test_loss = 0\n",
    "            accuracy = 0\n",
    "            with torch.no_grad():\n",
    "                model.eval()\n",
    "                for inputs, labels in validloader:\n",
    "                    inputs, labels = inputs.to(device), labels.to(device)\n",
    "                    logps = model.forward(inputs)\n",
    "                    batch_loss = criterion(logps, labels)\n",
    "                    \n",
    "                    test_loss += batch_loss.item()\n",
    "                    \n",
    "                    # Calculate accuracy\n",
    "                    ps = torch.exp(logps)\n",
    "                    top_p, top_class = ps.topk(1, dim=1)\n",
    "                    equals = top_class == labels.view(*top_class.shape)\n",
    "                    accuracy += torch.mean(equals.type(torch.FloatTensor)).item()\n",
    "                    \n",
    "            print(f\"Epoch {e+1}/{epochs}.. \"\n",
    "                  f\"Train loss: {running_loss/print_every:.3f}.. \"\n",
    "                  f\"Test loss: {test_loss/len(validloader):.3f}.. \"\n",
    "                  f\"Test accuracy: {accuracy/len(validloader):.3f}\")\n",
    "            running_loss = 0\n",
    "            model.train()\n",
    "    '''    \n",
    "    else:\n",
    "        print(f\"Training loss: {running_loss} \")\n",
    "    ''' \n",
    "        "
   ]
  },
  {
   "cell_type": "markdown",
   "metadata": {},
   "source": [
    "## Testing your network\n",
    "\n",
    "It's good practice to test your trained network on test data, images the network has never seen either in training or validation. This will give you a good estimate for the model's performance on completely new images. Run the test images through the network and measure the accuracy, the same way you did validation. You should be able to reach around 70% accuracy on the test set if the model has been trained well."
   ]
  },
  {
   "cell_type": "code",
   "execution_count": null,
   "metadata": {},
   "outputs": [],
   "source": [
    "# Test out your network!\n",
    "\n",
    "dataiter = iter(testloader)\n",
    "images, labels = dataiter.next()\n",
    "img = images[1]\n",
    "\n",
    "# TODO: Calculate the class probabilities (softmax) for img\n",
    "ps = torch.exp(model(img))\n",
    "\n",
    "# Plot the image and probabilities\n",
    "helper.view_classify(img, ps, version='Fashion')\n",
    "# Make sure the shape is appropriate, we should get 10 class probabilities for 64 examples\n",
    "print(ps.shape)\n"
   ]
  },
  {
   "cell_type": "code",
   "execution_count": null,
   "metadata": {},
   "outputs": [],
   "source": [
    "# TODO: Do validation on the test set\n"
   ]
  },
  {
   "cell_type": "markdown",
   "metadata": {},
   "source": [
    "## Save the checkpoint\n",
    "\n",
    "Now that your network is trained, save the model so you can load it later for making predictions. You probably want to save other things such as the mapping of classes to indices which you get from one of the image datasets: `image_datasets['train'].class_to_idx`. You can attach this to the model as an attribute which makes inference easier later on.\n",
    "\n",
    "```model.class_to_idx = image_datasets['train'].class_to_idx```\n",
    "\n",
    "Remember that you'll want to completely rebuild the model later so you can use it for inference. Make sure to include any information you need in the checkpoint. If you want to load the model and keep training, you'll want to save the number of epochs as well as the optimizer state, `optimizer.state_dict`. You'll likely want to use this trained model in the next part of the project, so best to save it now."
   ]
  },
  {
   "cell_type": "code",
   "execution_count": null,
   "metadata": {},
   "outputs": [],
   "source": [
    "# TODO: Save the checkpoint\n",
    "\n",
    "def save_checkpoint(filepath):\n",
    "\n",
    "    model.class_to_idx = image_datasets['train'].class_to_idx\n",
    "    model.epochs = epochs\n",
    "    model.optimizer_state_dict = optimizer.state_dict\n",
    "    \n",
    "    checkpoint = {'input_size': 25088,\n",
    "          'output_size': 102,\n",
    "          'hidden_layers': [each.out_features for each in model.hidden_layers],\n",
    "          'state_dict': model.state_dict() # includes parameters set before 'checkpoint' ?\n",
    "            }\n",
    "    \n",
    "    torch.save(checkpoint, 'checkpoint.pth')\n",
    "\n",
    "save_checkpoint('checkpoint.pth')\n",
    "model = load_checkpoint('checkpoint.pth')\n",
    "print(model)"
   ]
  },
  {
   "cell_type": "markdown",
   "metadata": {},
   "source": [
    "## Loading the checkpoint\n",
    "\n",
    "At this point it's good to write a function that can load a checkpoint and rebuild the model. That way you can come back to this project and keep working on it without having to retrain the network."
   ]
  },
  {
   "cell_type": "code",
   "execution_count": null,
   "metadata": {},
   "outputs": [],
   "source": [
    "# TODO: Write a function that loads a checkpoint and rebuilds the model\n",
    "def load_checkpoint(filepath):\n",
    "    checkpoint = torch.load(filepath)\n",
    "    print(checkpoint.keys())\n",
    "    ### model = models.vgg16(pretrained=True)\n",
    "    ## How do I instantiate 'model'?\n",
    "    model = fc_model.Network(checkpoint['input_size'],\n",
    "                             checkpoint['output_size'],\n",
    "                             checkpoint['hidden_layers'])\n",
    "    model.load_state_dict(checkpoint['state_dict'])\n",
    "    \n",
    "    return model"
   ]
  },
  {
   "cell_type": "markdown",
   "metadata": {},
   "source": [
    "# Inference for classification\n",
    "\n",
    "Now you'll write a function to use a trained network for inference. That is, you'll pass an image into the network and predict the class of the flower in the image. Write a function called `predict` that takes an image and a model, then returns the top $K$ most likely classes along with the probabilities. It should look like \n",
    "\n",
    "```python\n",
    "probs, classes = predict(image_path, model)\n",
    "print(probs)\n",
    "print(classes)\n",
    "> [ 0.01558163  0.01541934  0.01452626  0.01443549  0.01407339]\n",
    "> ['70', '3', '45', '62', '55']\n",
    "```\n",
    "\n",
    "First you'll need to handle processing the input image such that it can be used in your network. \n",
    "\n",
    "## Image Preprocessing\n",
    "\n",
    "You'll want to use `PIL` to load the image ([documentation](https://pillow.readthedocs.io/en/latest/reference/Image.html)). It's best to write a function that preprocesses the image so it can be used as input for the model. This function should process the images in the same manner used for training. \n",
    "\n",
    "First, resize the images where the shortest side is 256 pixels, keeping the aspect ratio. This can be done with the [`thumbnail`](http://pillow.readthedocs.io/en/3.1.x/reference/Image.html#PIL.Image.Image.thumbnail) or [`resize`](http://pillow.readthedocs.io/en/3.1.x/reference/Image.html#PIL.Image.Image.thumbnail) methods. Then you'll need to crop out the center 224x224 portion of the image.\n",
    "\n",
    "Color channels of images are typically encoded as integers 0-255, but the model expected floats 0-1. You'll need to convert the values. It's easiest with a Numpy array, which you can get from a PIL image like so `np_image = np.array(pil_image)`.\n",
    "\n",
    "As before, the network expects the images to be normalized in a specific way. For the means, it's `[0.485, 0.456, 0.406]` and for the standard deviations `[0.229, 0.224, 0.225]`. You'll want to subtract the means from each color channel, then divide by the standard deviation. \n",
    "\n",
    "And finally, PyTorch expects the color channel to be the first dimension but it's the third dimension in the PIL image and Numpy array. You can reorder dimensions using [`ndarray.transpose`](https://docs.scipy.org/doc/numpy-1.13.0/reference/generated/numpy.ndarray.transpose.html). The color channel needs to be first and retain the order of the other two dimensions."
   ]
  },
  {
   "cell_type": "code",
   "execution_count": null,
   "metadata": {},
   "outputs": [],
   "source": [
    "def process_image(image):\n",
    "    ''' Scales, crops, and normalizes a PIL image for a PyTorch model,\n",
    "        returns an Numpy array\n",
    "    '''\n",
    "    from PIL import Image\n",
    "    im = Image.open(\"bride.jpg\")\n",
    "    im.rotate(45).show()\n",
    "\n",
    "    \n",
    "    # TODO: Process a PIL image for use in a PyTorch model"
   ]
  },
  {
   "cell_type": "markdown",
   "metadata": {},
   "source": [
    "To check your work, the function below converts a PyTorch tensor and displays it in the notebook. If your `process_image` function works, running the output through this function should return the original image (except for the cropped out portions)."
   ]
  },
  {
   "cell_type": "code",
   "execution_count": null,
   "metadata": {},
   "outputs": [],
   "source": [
    "def imshow(image, ax=None, title=None):\n",
    "    \"\"\"Imshow for Tensor.\"\"\"\n",
    "    if ax is None:\n",
    "        fig, ax = plt.subplots()\n",
    "    \n",
    "    # PyTorch tensors assume the color channel is the first dimension\n",
    "    # but matplotlib assumes is the third dimension\n",
    "    image = image.numpy().transpose((1, 2, 0))\n",
    "    \n",
    "    # Undo preprocessing\n",
    "    mean = np.array([0.485, 0.456, 0.406])\n",
    "    std = np.array([0.229, 0.224, 0.225])\n",
    "    image = std * image + mean\n",
    "    \n",
    "    # Image needs to be clipped between 0 and 1 or it looks like noise when displayed\n",
    "    image = np.clip(image, 0, 1)\n",
    "    \n",
    "    ax.imshow(image)\n",
    "    \n",
    "    return ax"
   ]
  },
  {
   "cell_type": "markdown",
   "metadata": {},
   "source": [
    "## Class Prediction\n",
    "\n",
    "Once you can get images in the correct format, it's time to write a function for making predictions with your model. A common practice is to predict the top 5 or so (usually called top-$K$) most probable classes. You'll want to calculate the class probabilities then find the $K$ largest values.\n",
    "\n",
    "To get the top $K$ largest values in a tensor use [`x.topk(k)`](http://pytorch.org/docs/master/torch.html#torch.topk). This method returns both the highest `k` probabilities and the indices of those probabilities corresponding to the classes. You need to convert from these indices to the actual class labels using `class_to_idx` which hopefully you added to the model or from an `ImageFolder` you used to load the data ([see here](#Save-the-checkpoint)). Make sure to invert the dictionary so you get a mapping from index to class as well.\n",
    "\n",
    "Again, this method should take a path to an image and a model checkpoint, then return the probabilities and classes.\n",
    "\n",
    "```python\n",
    "probs, classes = predict(image_path, model)\n",
    "print(probs)\n",
    "print(classes)\n",
    "> [ 0.01558163  0.01541934  0.01452626  0.01443549  0.01407339]\n",
    "> ['70', '3', '45', '62', '55']\n",
    "```"
   ]
  },
  {
   "cell_type": "code",
   "execution_count": null,
   "metadata": {},
   "outputs": [],
   "source": [
    "def predict(image_path, model, topk=5):\n",
    "    ''' Predict the class (or classes) of an image using a trained deep learning model.\n",
    "    '''\n",
    "    \n",
    "    # TODO: Implement the code to predict the class from an image file"
   ]
  },
  {
   "cell_type": "markdown",
   "metadata": {},
   "source": [
    "## Sanity Checking\n",
    "\n",
    "Now that you can use a trained model for predictions, check to make sure it makes sense. Even if the testing accuracy is high, it's always good to check that there aren't obvious bugs. Use `matplotlib` to plot the probabilities for the top 5 classes as a bar graph, along with the input image. It should look like this:\n",
    "\n",
    "<img src='assets/inference_example.png' width=300px>\n",
    "\n",
    "You can convert from the class integer encoding to actual flower names with the `cat_to_name.json` file (should have been loaded earlier in the notebook). To show a PyTorch tensor as an image, use the `imshow` function defined above."
   ]
  },
  {
   "cell_type": "code",
   "execution_count": null,
   "metadata": {},
   "outputs": [],
   "source": [
    "# TODO: Display an image along with the top 5 classes"
   ]
  }
 ],
 "metadata": {
  "kernelspec": {
   "display_name": "Python 3",
   "language": "python",
   "name": "python3"
  }
 },
 "nbformat": 4,
 "nbformat_minor": 2
}
